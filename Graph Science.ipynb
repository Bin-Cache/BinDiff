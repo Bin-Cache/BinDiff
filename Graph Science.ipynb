{
 "cells": [
  {
   "cell_type": "code",
   "execution_count": 1,
   "source": [
    "import networkx as nx\n",
    "%matplotlib inline  \n",
    "\n",
    "import matplotlib.pyplot as plt\n",
    "from networkx.drawing.nx_agraph import graphviz_layout"
   ],
   "outputs": [],
   "metadata": {}
  },
  {
   "cell_type": "code",
   "execution_count": 2,
   "source": [
    "import json\n",
    "import os\n",
    "\n",
    "graphA = json.loads(open('graphA.json', 'r').read())\n",
    "graphB = json.loads(open('graphB.json', 'r').read())\n",
    "\n",
    "\n",
    "calledFuncGraphA = dict()\n",
    "calledFuncGraphB = dict()\n",
    "for func in graphA:\n",
    "    calledFuncGraphA[func] = graphA[func][0]\n",
    "for func in graphB:\n",
    "    calledFuncGraphB[func] = graphB[func][0]\n",
    "\n",
    "A = nx.from_dict_of_lists(calledFuncGraphA)\n",
    "B = nx.from_dict_of_lists(calledFuncGraphB)\n",
    "# pos =graphviz_layout(A, prog='dot')\n",
    "# plt.figure(figsize=(15,10))\n",
    "# nx.draw(A, pos, with_labels=False, arrows=True)\n"
   ],
   "outputs": [],
   "metadata": {}
  },
  {
   "cell_type": "code",
   "execution_count": 3,
   "source": [
    "# pos =graphviz_layout(B, prog='dot')\n",
    "# plt.figure(figsize=(15,10))\n",
    "# nx.draw(B, pos, with_labels=False, arrows=True)"
   ],
   "outputs": [],
   "metadata": {}
  },
  {
   "cell_type": "code",
   "execution_count": 4,
   "source": [
    "from networkx.algorithms import isomorphism\n",
    "\n",
    "# DiGM = isomorphism.DiGraphMatcher(A, B)\n",
    "# DiGM.is_isomorphic()\n",
    "# nx.graph_edit_distance(A,B)\n",
    "\n",
    "\n",
    "import sys\n",
    "sys.path.insert(0, '/Users/wamuo/Documents/Lab/Projects/ditk/text/similarity/minHash')\n",
    "import MinHash\n",
    "\n",
    "def sha1_hash32(data):\n",
    "    return struct.unpack('<I', hashlib.sha1(data).digest()[:4])[0]\n",
    "\n",
    "# minHash=MinHash(hashfunc=sha1_hash32, num_perm=2, seed=1)\n",
    "\n",
    "sentence1='Two dogs are fighting'\n",
    "sentence2='Two dogs are wrestling and hugging'\n",
    "\n",
    "print(sentence1)\n",
    "# minHash.predict(sentence1,sentence2)\n",
    "\n"
   ],
   "outputs": [
    {
     "output_type": "error",
     "ename": "ModuleNotFoundError",
     "evalue": "No module named 'text_similarity'",
     "traceback": [
      "\u001b[0;31m---------------------------------------------------------------------------\u001b[0m",
      "\u001b[0;31mModuleNotFoundError\u001b[0m                       Traceback (most recent call last)",
      "\u001b[0;32m/var/folders/47/q_450zcs681gyp1rd0_f0fkc0000gn/T/ipykernel_18238/1347335298.py\u001b[0m in \u001b[0;36m<module>\u001b[0;34m\u001b[0m\n\u001b[1;32m      8\u001b[0m \u001b[0;32mimport\u001b[0m \u001b[0msys\u001b[0m\u001b[0;34m\u001b[0m\u001b[0;34m\u001b[0m\u001b[0m\n\u001b[1;32m      9\u001b[0m \u001b[0msys\u001b[0m\u001b[0;34m.\u001b[0m\u001b[0mpath\u001b[0m\u001b[0;34m.\u001b[0m\u001b[0minsert\u001b[0m\u001b[0;34m(\u001b[0m\u001b[0;36m0\u001b[0m\u001b[0;34m,\u001b[0m \u001b[0;34m'/Users/wamuo/Documents/Lab/Projects/ditk/text/similarity/minHash'\u001b[0m\u001b[0;34m)\u001b[0m\u001b[0;34m\u001b[0m\u001b[0;34m\u001b[0m\u001b[0m\n\u001b[0;32m---> 10\u001b[0;31m \u001b[0;32mimport\u001b[0m \u001b[0mMinHash\u001b[0m\u001b[0;34m\u001b[0m\u001b[0;34m\u001b[0m\u001b[0m\n\u001b[0m\u001b[1;32m     11\u001b[0m \u001b[0;34m\u001b[0m\u001b[0m\n\u001b[1;32m     12\u001b[0m \u001b[0;32mdef\u001b[0m \u001b[0msha1_hash32\u001b[0m\u001b[0;34m(\u001b[0m\u001b[0mdata\u001b[0m\u001b[0;34m)\u001b[0m\u001b[0;34m:\u001b[0m\u001b[0;34m\u001b[0m\u001b[0;34m\u001b[0m\u001b[0m\n",
      "\u001b[0;32m~/Documents/Lab/Projects/ditk/text/similarity/minHash/MinHash.py\u001b[0m in \u001b[0;36m<module>\u001b[0;34m\u001b[0m\n\u001b[1;32m     12\u001b[0m \u001b[0;32mfrom\u001b[0m \u001b[0mabc\u001b[0m \u001b[0;32mimport\u001b[0m \u001b[0mABCMeta\u001b[0m\u001b[0;34m,\u001b[0m \u001b[0mabstractmethod\u001b[0m\u001b[0;34m\u001b[0m\u001b[0;34m\u001b[0m\u001b[0m\n\u001b[1;32m     13\u001b[0m \u001b[0;32mfrom\u001b[0m \u001b[0mscipy\u001b[0m\u001b[0;34m.\u001b[0m\u001b[0mstats\u001b[0m \u001b[0;32mimport\u001b[0m \u001b[0mpearsonr\u001b[0m\u001b[0;34m,\u001b[0m \u001b[0mspearmanr\u001b[0m\u001b[0;34m\u001b[0m\u001b[0;34m\u001b[0m\u001b[0m\n\u001b[0;32m---> 14\u001b[0;31m \u001b[0;32mimport\u001b[0m \u001b[0mtext_similarity\u001b[0m\u001b[0;34m\u001b[0m\u001b[0;34m\u001b[0m\u001b[0m\n\u001b[0m\u001b[1;32m     15\u001b[0m \u001b[0mABC\u001b[0m \u001b[0;34m=\u001b[0m \u001b[0mABCMeta\u001b[0m\u001b[0;34m(\u001b[0m\u001b[0;34m'ABC'\u001b[0m\u001b[0;34m,\u001b[0m \u001b[0;34m(\u001b[0m\u001b[0mobject\u001b[0m\u001b[0;34m,\u001b[0m\u001b[0;34m)\u001b[0m\u001b[0;34m,\u001b[0m \u001b[0;34m{\u001b[0m\u001b[0;34m}\u001b[0m\u001b[0;34m)\u001b[0m \u001b[0;31m# compatible with Python 2 *and* 3\u001b[0m\u001b[0;34m\u001b[0m\u001b[0;34m\u001b[0m\u001b[0m\n\u001b[1;32m     16\u001b[0m \u001b[0;32mtry\u001b[0m\u001b[0;34m:\u001b[0m\u001b[0;34m\u001b[0m\u001b[0;34m\u001b[0m\u001b[0m\n",
      "\u001b[0;31mModuleNotFoundError\u001b[0m: No module named 'text_similarity'"
     ]
    }
   ],
   "metadata": {}
  },
  {
   "cell_type": "markdown",
   "source": [],
   "metadata": {}
  }
 ],
 "metadata": {
  "kernelspec": {
   "name": "python3",
   "display_name": "Python 3.9.1 64-bit"
  },
  "language_info": {
   "codemirror_mode": {
    "name": "ipython",
    "version": 3
   },
   "file_extension": ".py",
   "mimetype": "text/x-python",
   "name": "python",
   "nbconvert_exporter": "python",
   "pygments_lexer": "ipython3",
   "version": "3.9.1"
  },
  "interpreter": {
   "hash": "7812ea015bdcee6f23a998adcdd2ef97c151c0c241b7b7070987d9313e41299d"
  }
 },
 "nbformat": 4,
 "nbformat_minor": 5
}