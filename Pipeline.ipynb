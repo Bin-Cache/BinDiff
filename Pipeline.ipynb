{
 "cells": [
  {
   "cell_type": "code",
   "execution_count": null,
   "id": "9928ef69",
   "metadata": {
    "scrolled": false
   },
   "outputs": [],
   "source": [
    "import subprocess\n",
    "import os\n",
    "import jaccard.jaccard as jac\n",
    "import binary_ast.compare_ast as bin_ast\n",
    "\n",
    "cwd = os.getcwd()\n",
    "os.putenv(\"GHIDRA_HEADLESS\", \"/Users/wamuo/Documents/Lab/tools/ghidra_10.1-BETA_PUBLIC/support/analyzeHeadless\")"
   ]
  },
  {
   "cell_type": "code",
   "execution_count": null,
   "id": "9c2bf91b",
   "metadata": {},
   "outputs": [],
   "source": [
    "#Import all packages and at base #20004000 and run ghidra analysis to find functions\n",
    "#Create a new folder for all analyzed binary using the version number\n",
    "#For all binaries extract generated instructions for all functions and store in a file named info_graph.json under the version folder\n",
    "subprocess.call(['./ghidra_mods/ghidra_pipeline.sh', cwd])"
   ]
  },
  {
   "cell_type": "code",
   "execution_count": null,
   "id": "ff5bf8db",
   "metadata": {},
   "outputs": [],
   "source": [
    "subfolders = [ f.path for f in os.scandir(\"versions\") if f.is_dir() ]\n",
    "subfolders.reverse()\n",
    "binary_pairs = [(subfolders[i - 1], subfolders[i]) for i in range(1, len(subfolders))]\n",
    "print(binary_pairs)"
   ]
  },
  {
   "cell_type": "code",
   "execution_count": null,
   "id": "25d1964e",
   "metadata": {},
   "outputs": [],
   "source": [
    "graph_file_name = \"/info_graph.json\"\n",
    "\n",
    "possible_updates_by_binary_pair = {}\n",
    "for binary_pair in binary_pairs:\n",
    "    possible_updates = jac.calculate_jaccard(binary_pair[0]+ graph_file_name, binary_pair[1] + graph_file_name, binary_pair[1], 0.85)\n",
    "    possible_updates_by_binary_pair[binary_pair] = possible_updates\n",
    "    \n",
    "    "
   ]
  },
  {
   "cell_type": "code",
   "execution_count": null,
   "id": "3b6df540",
   "metadata": {
    "scrolled": true
   },
   "outputs": [],
   "source": [
    "for binary_pair in possible_updates_by_binary_pair:\n",
    "    print(binary_pair)\n",
    "    binary_a = binary_pair[0].split(\"/\")[1].replace('_', '.')\n",
    "    binary_b = binary_pair[1].split(\"/\")[1].replace('_', '.')\n",
    "    func_pairs = possible_updates_by_binary_pair[binary_pair]\n",
    "\n",
    "    for func_pair in func_pairs:\n",
    "        print(func_pair)\n",
    "        func_a = func_pair[1][1]\n",
    "        func_b = func_pair[1][0]\n",
    "        \n",
    "        funcA_ast_file = binary_pair[0] + \"/\" + func_a + \".json\"\n",
    "        funcB_ast_file = binary_pair[1] + \"/\" + func_b + \".json\"\n",
    "       \n",
    "        \n",
    "        if not os.path.exists(funcA_ast_file):\n",
    "            subprocess.call(['./ghidra_mods/ast.sh', cwd, binary_a, func_a, binary_pair[0]])\n",
    "        \n",
    "        if not os.path.exists(funcB_ast_file):\n",
    "            subprocess.call(['./ghidra_mods/ast.sh', cwd, binary_b, func_b, binary_pair[1]])\n",
    "       \n",
    "        print(\"\\n\\n\\nNew Comparison \\n\", func_a, func_b)\n",
    "        path = binary_pair[1] + \"/\" + func_a +\"_to_\" + func_b \n",
    "        bin_ast.compare_ast(binary_pair[0], binary_pair[1], funcA_ast_file, funcB_ast_file, path)"
   ]
  }
 ],
 "metadata": {
  "kernelspec": {
   "display_name": "Python 3 (ipykernel)",
   "language": "python",
   "name": "python3"
  },
  "language_info": {
   "codemirror_mode": {
    "name": "ipython",
    "version": 3
   },
   "file_extension": ".py",
   "mimetype": "text/x-python",
   "name": "python",
   "nbconvert_exporter": "python",
   "pygments_lexer": "ipython3",
   "version": "3.9.10"
  }
 },
 "nbformat": 4,
 "nbformat_minor": 5
}
