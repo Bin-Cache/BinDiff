{
 "cells": [
  {
   "cell_type": "code",
   "execution_count": null,
   "id": "ea52c0d2",
   "metadata": {},
   "outputs": [
    {
     "name": "stdout",
     "output_type": "stream",
     "text": [
      " * Serving Flask app \"__main__\" (lazy loading)\n",
      " * Environment: production\n",
      "\u001b[31m   WARNING: This is a development server. Do not use it in a production deployment.\u001b[0m\n",
      "\u001b[2m   Use a production WSGI server instead.\u001b[0m\n",
      " * Debug mode: off\n"
     ]
    },
    {
     "name": "stderr",
     "output_type": "stream",
     "text": [
      " * Running on http://127.0.0.1:8050/ (Press CTRL+C to quit)\n",
      "127.0.0.1 - - [07/Feb/2022 14:41:35] \"\u001b[37mGET / HTTP/1.1\u001b[0m\" 200 -\n",
      "127.0.0.1 - - [07/Feb/2022 14:41:36] \"\u001b[37mGET /_dash-layout HTTP/1.1\u001b[0m\" 200 -\n",
      "127.0.0.1 - - [07/Feb/2022 14:41:36] \"\u001b[37mGET /_dash-dependencies HTTP/1.1\u001b[0m\" 200 -\n",
      "127.0.0.1 - - [07/Feb/2022 14:41:36] \"\u001b[37mGET /_dash-component-suites/dash/dcc/async-dropdown.js HTTP/1.1\u001b[0m\" 200 -\n",
      "127.0.0.1 - - [07/Feb/2022 14:41:36] \"\u001b[36mGET /_dash-component-suites/dash/dcc/async-graph.js HTTP/1.1\u001b[0m\" 304 -\n",
      "127.0.0.1 - - [07/Feb/2022 14:41:36] \"\u001b[36mGET /_dash-component-suites/dash/dcc/async-plotlyjs.js HTTP/1.1\u001b[0m\" 304 -\n",
      "127.0.0.1 - - [07/Feb/2022 14:41:36] \"\u001b[37mPOST /_dash-update-component HTTP/1.1\u001b[0m\" 204 -\n",
      "127.0.0.1 - - [07/Feb/2022 14:41:36] \"\u001b[37mPOST /_dash-update-component HTTP/1.1\u001b[0m\" 200 -\n",
      "127.0.0.1 - - [07/Feb/2022 14:41:36] \"\u001b[37mPOST /_dash-update-component HTTP/1.1\u001b[0m\" 200 -\n"
     ]
    },
    {
     "name": "stdout",
     "output_type": "stream",
     "text": [
      "Mouse on Node: None\n",
      "Mouse on Edge: None\n",
      "Tapped Edge: None\n",
      "Tapped Node: None\n",
      "------------------------------------------------------------\n",
      "All selected Nodes: None\n",
      "------------------------------------------------------------\n"
     ]
    },
    {
     "name": "stderr",
     "output_type": "stream",
     "text": [
      "127.0.0.1 - - [07/Feb/2022 14:48:54] \"\u001b[37mPOST /_dash-update-component HTTP/1.1\u001b[0m\" 200 -\n"
     ]
    },
    {
     "name": "stdout",
     "output_type": "stream",
     "text": [
      "Mouse on Node: {'id': 'Vice President (Sarah)', 'label': 'Vice President (Sarah)'}\n",
      "Mouse on Edge: None\n",
      "Tapped Edge: None\n",
      "Tapped Node: None\n",
      "------------------------------------------------------------\n",
      "All selected Nodes: None\n",
      "------------------------------------------------------------\n"
     ]
    },
    {
     "name": "stderr",
     "output_type": "stream",
     "text": [
      "127.0.0.1 - - [07/Feb/2022 14:48:54] \"\u001b[37mPOST /_dash-update-component HTTP/1.1\u001b[0m\" 200 -\n",
      "127.0.0.1 - - [07/Feb/2022 14:48:55] \"\u001b[37mPOST /_dash-update-component HTTP/1.1\u001b[0m\" 200 -\n",
      "127.0.0.1 - - [07/Feb/2022 14:48:55] \"\u001b[37mPOST /_dash-update-component HTTP/1.1\u001b[0m\" 200 -\n"
     ]
    },
    {
     "name": "stdout",
     "output_type": "stream",
     "text": [
      "Mouse on Node: {'id': 'Vice President (Sarah)', 'label': 'Vice President (Sarah)'}\n",
      "Mouse on Edge: None\n",
      "Tapped Edge: None\n",
      "Tapped Node: {'id': 'Vice President (Sarah)', 'label': 'Vice President (Sarah)'}\n",
      "------------------------------------------------------------\n",
      "All selected Nodes: None\n",
      "------------------------------------------------------------\n",
      "Mouse on Node: {'id': 'Vice President (Sarah)', 'label': 'Vice President (Sarah)'}\n",
      "Mouse on Edge: None\n",
      "Tapped Edge: None\n",
      "Tapped Node: {'id': 'Vice President (Sarah)', 'label': 'Vice President (Sarah)'}\n",
      "------------------------------------------------------------\n",
      "All selected Nodes: [{'id': 'Vice President (Sarah)', 'label': 'Vice President (Sarah)'}]\n",
      "------------------------------------------------------------\n"
     ]
    },
    {
     "name": "stderr",
     "output_type": "stream",
     "text": [
      "127.0.0.1 - - [07/Feb/2022 14:48:55] \"\u001b[37mPOST /_dash-update-component HTTP/1.1\u001b[0m\" 200 -\n"
     ]
    },
    {
     "name": "stdout",
     "output_type": "stream",
     "text": [
      "Mouse on Node: {'id': 'Vice President (Sarah)', 'label': 'Vice President (Sarah)'}\n",
      "Mouse on Edge: {'source': 'Vice President (Sarah)', 'target': 'Program Officer (Elizabeth)', 'id': 'f6f36b18-830e-4abb-8b39-76e7614926b4'}\n",
      "Tapped Edge: None\n",
      "Tapped Node: {'id': 'Vice President (Sarah)', 'label': 'Vice President (Sarah)'}\n",
      "------------------------------------------------------------\n",
      "All selected Nodes: [{'id': 'Vice President (Sarah)', 'label': 'Vice President (Sarah)'}]\n",
      "------------------------------------------------------------\n"
     ]
    },
    {
     "name": "stderr",
     "output_type": "stream",
     "text": [
      "127.0.0.1 - - [07/Feb/2022 14:48:55] \"\u001b[37mPOST /_dash-update-component HTTP/1.1\u001b[0m\" 200 -\n"
     ]
    },
    {
     "name": "stdout",
     "output_type": "stream",
     "text": [
      "Mouse on Node: {'id': 'Program Officer (Elizabeth)', 'label': 'Program Officer (Elizabeth)'}\n",
      "Mouse on Edge: {'source': 'Vice President (Sarah)', 'target': 'Program Officer (Elizabeth)', 'id': 'f6f36b18-830e-4abb-8b39-76e7614926b4'}\n",
      "Tapped Edge: None\n",
      "Tapped Node: {'id': 'Vice President (Sarah)', 'label': 'Vice President (Sarah)'}\n",
      "------------------------------------------------------------\n",
      "All selected Nodes: [{'id': 'Vice President (Sarah)', 'label': 'Vice President (Sarah)'}]\n",
      "------------------------------------------------------------\n"
     ]
    },
    {
     "name": "stderr",
     "output_type": "stream",
     "text": [
      "127.0.0.1 - - [07/Feb/2022 14:48:55] \"\u001b[37mPOST /_dash-update-component HTTP/1.1\u001b[0m\" 200 -\n",
      "127.0.0.1 - - [07/Feb/2022 14:48:55] \"\u001b[37mPOST /_dash-update-component HTTP/1.1\u001b[0m\" 200 -\n",
      "127.0.0.1 - - [07/Feb/2022 14:48:55] \"\u001b[37mPOST /_dash-update-component HTTP/1.1\u001b[0m\" 200 -\n"
     ]
    },
    {
     "name": "stdout",
     "output_type": "stream",
     "text": [
      "Mouse on Node: {'id': 'Program Officer (Elizabeth)', 'label': 'Program Officer (Elizabeth)'}\n",
      "Mouse on Edge: {'source': 'Vice President (Sarah)', 'target': 'Program Officer (Elizabeth)', 'id': 'f6f36b18-830e-4abb-8b39-76e7614926b4'}\n",
      "Tapped Edge: None\n",
      "Tapped Node: {'id': 'Program Officer (Elizabeth)', 'label': 'Program Officer (Elizabeth)'}\n",
      "------------------------------------------------------------\n",
      "All selected Nodes: [{'id': 'Vice President (Sarah)', 'label': 'Vice President (Sarah)'}]\n",
      "------------------------------------------------------------\n",
      "Mouse on Node: {'id': 'Program Officer (Elizabeth)', 'label': 'Program Officer (Elizabeth)'}\n",
      "Mouse on Edge: {'source': 'Vice President (Sarah)', 'target': 'Program Officer (Elizabeth)', 'id': 'f6f36b18-830e-4abb-8b39-76e7614926b4'}\n",
      "Tapped Edge: None\n",
      "Tapped Node: {'id': 'Program Officer (Elizabeth)', 'label': 'Program Officer (Elizabeth)'}\n",
      "------------------------------------------------------------\n",
      "All selected Nodes: [{'id': 'Program Officer (Elizabeth)', 'label': 'Program Officer (Elizabeth)'}]\n",
      "------------------------------------------------------------\n"
     ]
    },
    {
     "name": "stderr",
     "output_type": "stream",
     "text": [
      "127.0.0.1 - - [07/Feb/2022 14:48:57] \"\u001b[37mPOST /_dash-update-component HTTP/1.1\u001b[0m\" 200 -\n"
     ]
    },
    {
     "name": "stdout",
     "output_type": "stream",
     "text": [
      "Mouse on Node: {'id': 'Vice President (Sarah)', 'label': 'Vice President (Sarah)'}\n",
      "Mouse on Edge: {'source': 'Vice President (Sarah)', 'target': 'Program Officer (Elizabeth)', 'id': 'f6f36b18-830e-4abb-8b39-76e7614926b4'}\n",
      "Tapped Edge: None\n",
      "Tapped Node: {'id': 'Program Officer (Elizabeth)', 'label': 'Program Officer (Elizabeth)'}\n",
      "------------------------------------------------------------\n",
      "All selected Nodes: [{'id': 'Program Officer (Elizabeth)', 'label': 'Program Officer (Elizabeth)'}]\n",
      "------------------------------------------------------------\n"
     ]
    },
    {
     "name": "stderr",
     "output_type": "stream",
     "text": [
      "127.0.0.1 - - [07/Feb/2022 14:56:11] \"\u001b[37mPOST /_dash-update-component HTTP/1.1\u001b[0m\" 200 -\n",
      "127.0.0.1 - - [07/Feb/2022 14:56:11] \"\u001b[37mPOST /_dash-update-component HTTP/1.1\u001b[0m\" 200 -\n",
      "127.0.0.1 - - [07/Feb/2022 14:56:11] \"\u001b[37mPOST /_dash-update-component HTTP/1.1\u001b[0m\" 200 -\n"
     ]
    },
    {
     "name": "stdout",
     "output_type": "stream",
     "text": [
      "Mouse on Node: {'id': 'Vice President (Sarah)', 'label': 'Vice President (Sarah)'}\n",
      "Mouse on Edge: {'source': 'Vice President (Sarah)', 'target': 'Program Officer (Elizabeth)', 'id': 'f6f36b18-830e-4abb-8b39-76e7614926b4'}\n",
      "Tapped Edge: None\n",
      "Tapped Node: {'id': 'Vice President (Sarah)', 'label': 'Vice President (Sarah)'}\n",
      "------------------------------------------------------------\n",
      "All selected Nodes: [{'id': 'Program Officer (Elizabeth)', 'label': 'Program Officer (Elizabeth)'}]\n",
      "------------------------------------------------------------\n",
      "Mouse on Node: {'id': 'Vice President (Sarah)', 'label': 'Vice President (Sarah)'}\n",
      "Mouse on Edge: {'source': 'Vice President (Sarah)', 'target': 'Program Officer (Elizabeth)', 'id': 'f6f36b18-830e-4abb-8b39-76e7614926b4'}\n",
      "Tapped Edge: None\n",
      "Tapped Node: {'id': 'Vice President (Sarah)', 'label': 'Vice President (Sarah)'}\n",
      "------------------------------------------------------------\n",
      "All selected Nodes: [{'id': 'Vice President (Sarah)', 'label': 'Vice President (Sarah)'}]\n",
      "------------------------------------------------------------\n"
     ]
    },
    {
     "name": "stderr",
     "output_type": "stream",
     "text": [
      "127.0.0.1 - - [07/Feb/2022 14:56:11] \"\u001b[37mPOST /_dash-update-component HTTP/1.1\u001b[0m\" 200 -\n"
     ]
    },
    {
     "name": "stdout",
     "output_type": "stream",
     "text": [
      "Mouse on Node: {'id': 'Vice President (Sarah)', 'label': 'Vice President (Sarah)'}\n",
      "Mouse on Edge: {'source': 'Executive Director (Harriet)', 'target': 'Vice President (Sarah)', 'id': '8606d57e-4720-472f-91a4-be61d18ea458'}\n",
      "Tapped Edge: None\n",
      "Tapped Node: {'id': 'Vice President (Sarah)', 'label': 'Vice President (Sarah)'}\n",
      "------------------------------------------------------------\n",
      "All selected Nodes: [{'id': 'Vice President (Sarah)', 'label': 'Vice President (Sarah)'}]\n",
      "------------------------------------------------------------\n"
     ]
    },
    {
     "name": "stderr",
     "output_type": "stream",
     "text": [
      "127.0.0.1 - - [07/Feb/2022 14:56:12] \"\u001b[37mPOST /_dash-update-component HTTP/1.1\u001b[0m\" 200 -\n"
     ]
    },
    {
     "name": "stdout",
     "output_type": "stream",
     "text": [
      "Mouse on Node: {'id': 'Executive Director (Harriet)', 'label': 'Executive Director (Harriet)'}\n",
      "Mouse on Edge: {'source': 'Executive Director (Harriet)', 'target': 'Vice President (Sarah)', 'id': '8606d57e-4720-472f-91a4-be61d18ea458'}\n",
      "Tapped Edge: None\n",
      "Tapped Node: {'id': 'Vice President (Sarah)', 'label': 'Vice President (Sarah)'}\n",
      "------------------------------------------------------------\n",
      "All selected Nodes: [{'id': 'Vice President (Sarah)', 'label': 'Vice President (Sarah)'}]\n",
      "------------------------------------------------------------\n"
     ]
    },
    {
     "name": "stderr",
     "output_type": "stream",
     "text": [
      "127.0.0.1 - - [07/Feb/2022 14:56:12] \"\u001b[37mPOST /_dash-update-component HTTP/1.1\u001b[0m\" 200 -\n",
      "127.0.0.1 - - [07/Feb/2022 14:56:12] \"\u001b[37mPOST /_dash-update-component HTTP/1.1\u001b[0m\" 200 -\n",
      "127.0.0.1 - - [07/Feb/2022 14:56:12] \"\u001b[37mPOST /_dash-update-component HTTP/1.1\u001b[0m\" 200 -\n"
     ]
    },
    {
     "name": "stdout",
     "output_type": "stream",
     "text": [
      "Mouse on Node: {'id': 'Executive Director (Harriet)', 'label': 'Executive Director (Harriet)'}\n",
      "Mouse on Edge: {'source': 'Executive Director (Harriet)', 'target': 'Vice President (Sarah)', 'id': '8606d57e-4720-472f-91a4-be61d18ea458'}\n",
      "Tapped Edge: None\n",
      "Tapped Node: {'id': 'Executive Director (Harriet)', 'label': 'Executive Director (Harriet)'}\n",
      "------------------------------------------------------------\n",
      "All selected Nodes: [{'id': 'Vice President (Sarah)', 'label': 'Vice President (Sarah)'}]\n",
      "------------------------------------------------------------\n",
      "Mouse on Node: {'id': 'Executive Director (Harriet)', 'label': 'Executive Director (Harriet)'}\n",
      "Mouse on Edge: {'source': 'Executive Director (Harriet)', 'target': 'Vice President (Sarah)', 'id': '8606d57e-4720-472f-91a4-be61d18ea458'}\n",
      "Tapped Edge: None\n",
      "Tapped Node: {'id': 'Executive Director (Harriet)', 'label': 'Executive Director (Harriet)'}\n",
      "------------------------------------------------------------\n",
      "All selected Nodes: [{'id': 'Executive Director (Harriet)', 'label': 'Executive Director (Harriet)'}]\n",
      "------------------------------------------------------------\n"
     ]
    },
    {
     "name": "stderr",
     "output_type": "stream",
     "text": [
      "127.0.0.1 - - [07/Feb/2022 14:56:13] \"\u001b[37mPOST /_dash-update-component HTTP/1.1\u001b[0m\" 200 -\n",
      "127.0.0.1 - - [07/Feb/2022 14:56:13] \"\u001b[37mPOST /_dash-update-component HTTP/1.1\u001b[0m\" 200 -\n"
     ]
    },
    {
     "name": "stdout",
     "output_type": "stream",
     "text": [
      "Mouse on Node: {'id': 'Executive Director (Harriet)', 'label': 'Executive Director (Harriet)'}\n",
      "Mouse on Edge: {'source': 'Executive Director (Harriet)', 'target': 'Vice President (Charlotte)', 'id': '97a8833b-b5a5-492d-b0f2-5e2547c8e68c'}\n",
      "Tapped Edge: None\n",
      "Tapped Node: {'id': 'Executive Director (Harriet)', 'label': 'Executive Director (Harriet)'}\n",
      "------------------------------------------------------------\n",
      "All selected Nodes: [{'id': 'Executive Director (Harriet)', 'label': 'Executive Director (Harriet)'}]\n",
      "------------------------------------------------------------\n",
      "Mouse on Node: {'id': 'Vice President (Charlotte)', 'label': 'Vice President (Charlotte)'}\n",
      "Mouse on Edge: {'source': 'Executive Director (Harriet)', 'target': 'Vice President (Charlotte)', 'id': '97a8833b-b5a5-492d-b0f2-5e2547c8e68c'}\n",
      "Tapped Edge: None\n",
      "Tapped Node: {'id': 'Executive Director (Harriet)', 'label': 'Executive Director (Harriet)'}\n",
      "------------------------------------------------------------\n",
      "All selected Nodes: [{'id': 'Executive Director (Harriet)', 'label': 'Executive Director (Harriet)'}]\n",
      "------------------------------------------------------------\n"
     ]
    },
    {
     "name": "stderr",
     "output_type": "stream",
     "text": [
      "127.0.0.1 - - [07/Feb/2022 14:56:14] \"\u001b[37mPOST /_dash-update-component HTTP/1.1\u001b[0m\" 200 -\n",
      "127.0.0.1 - - [07/Feb/2022 14:56:14] \"\u001b[37mPOST /_dash-update-component HTTP/1.1\u001b[0m\" 200 -\n",
      "127.0.0.1 - - [07/Feb/2022 14:56:14] \"\u001b[37mPOST /_dash-update-component HTTP/1.1\u001b[0m\" 200 -\n"
     ]
    },
    {
     "name": "stdout",
     "output_type": "stream",
     "text": [
      "Mouse on Node: {'id': 'Vice President (Charlotte)', 'label': 'Vice President (Charlotte)'}\n",
      "Mouse on Edge: {'source': 'Executive Director (Harriet)', 'target': 'Vice President (Charlotte)', 'id': '97a8833b-b5a5-492d-b0f2-5e2547c8e68c'}\n",
      "Tapped Edge: None\n",
      "Tapped Node: {'id': 'Vice President (Charlotte)', 'label': 'Vice President (Charlotte)'}\n",
      "------------------------------------------------------------\n",
      "All selected Nodes: [{'id': 'Executive Director (Harriet)', 'label': 'Executive Director (Harriet)'}]\n",
      "------------------------------------------------------------\n",
      "Mouse on Node: {'id': 'Vice President (Charlotte)', 'label': 'Vice President (Charlotte)'}\n",
      "Mouse on Edge: {'source': 'Executive Director (Harriet)', 'target': 'Vice President (Charlotte)', 'id': '97a8833b-b5a5-492d-b0f2-5e2547c8e68c'}\n",
      "Tapped Edge: None\n",
      "Tapped Node: {'id': 'Vice President (Charlotte)', 'label': 'Vice President (Charlotte)'}\n",
      "------------------------------------------------------------\n",
      "All selected Nodes: [{'id': 'Vice President (Charlotte)', 'label': 'Vice President (Charlotte)'}]\n",
      "------------------------------------------------------------\n"
     ]
    },
    {
     "name": "stderr",
     "output_type": "stream",
     "text": [
      "127.0.0.1 - - [07/Feb/2022 14:56:14] \"\u001b[37mPOST /_dash-update-component HTTP/1.1\u001b[0m\" 200 -\n"
     ]
    },
    {
     "name": "stdout",
     "output_type": "stream",
     "text": [
      "Mouse on Node: {'id': 'Vice President (Charlotte)', 'label': 'Vice President (Charlotte)'}\n",
      "Mouse on Edge: {'source': 'Vice President (Sarah)', 'target': 'Program Officer (Elizabeth)', 'id': 'f6f36b18-830e-4abb-8b39-76e7614926b4'}\n",
      "Tapped Edge: None\n",
      "Tapped Node: {'id': 'Vice President (Charlotte)', 'label': 'Vice President (Charlotte)'}\n",
      "------------------------------------------------------------\n",
      "All selected Nodes: [{'id': 'Vice President (Charlotte)', 'label': 'Vice President (Charlotte)'}]\n",
      "------------------------------------------------------------\n"
     ]
    },
    {
     "name": "stderr",
     "output_type": "stream",
     "text": [
      "127.0.0.1 - - [07/Feb/2022 14:56:15] \"\u001b[37mPOST /_dash-update-component HTTP/1.1\u001b[0m\" 200 -\n"
     ]
    },
    {
     "name": "stdout",
     "output_type": "stream",
     "text": [
      "Mouse on Node: {'id': 'Vice President (Sarah)', 'label': 'Vice President (Sarah)'}\n",
      "Mouse on Edge: {'source': 'Vice President (Sarah)', 'target': 'Program Officer (Elizabeth)', 'id': 'f6f36b18-830e-4abb-8b39-76e7614926b4'}\n",
      "Tapped Edge: None\n",
      "Tapped Node: {'id': 'Vice President (Charlotte)', 'label': 'Vice President (Charlotte)'}\n",
      "------------------------------------------------------------\n",
      "All selected Nodes: [{'id': 'Vice President (Charlotte)', 'label': 'Vice President (Charlotte)'}]\n",
      "------------------------------------------------------------\n"
     ]
    },
    {
     "name": "stderr",
     "output_type": "stream",
     "text": [
      "127.0.0.1 - - [07/Feb/2022 14:56:15] \"\u001b[37mPOST /_dash-update-component HTTP/1.1\u001b[0m\" 200 -\n",
      "127.0.0.1 - - [07/Feb/2022 14:56:15] \"\u001b[37mPOST /_dash-update-component HTTP/1.1\u001b[0m\" 200 -\n",
      "127.0.0.1 - - [07/Feb/2022 14:56:15] \"\u001b[37mPOST /_dash-update-component HTTP/1.1\u001b[0m\" 200 -\n"
     ]
    },
    {
     "name": "stdout",
     "output_type": "stream",
     "text": [
      "Mouse on Node: {'id': 'Vice President (Sarah)', 'label': 'Vice President (Sarah)'}\n",
      "Mouse on Edge: {'source': 'Vice President (Sarah)', 'target': 'Program Officer (Elizabeth)', 'id': 'f6f36b18-830e-4abb-8b39-76e7614926b4'}\n",
      "Tapped Edge: None\n",
      "Tapped Node: {'id': 'Vice President (Sarah)', 'label': 'Vice President (Sarah)'}\n",
      "------------------------------------------------------------\n",
      "All selected Nodes: [{'id': 'Vice President (Charlotte)', 'label': 'Vice President (Charlotte)'}]\n",
      "------------------------------------------------------------\n",
      "Mouse on Node: {'id': 'Vice President (Sarah)', 'label': 'Vice President (Sarah)'}\n",
      "Mouse on Edge: {'source': 'Vice President (Sarah)', 'target': 'Program Officer (Elizabeth)', 'id': 'f6f36b18-830e-4abb-8b39-76e7614926b4'}\n",
      "Tapped Edge: None\n",
      "Tapped Node: {'id': 'Vice President (Sarah)', 'label': 'Vice President (Sarah)'}\n",
      "------------------------------------------------------------\n",
      "All selected Nodes: [{'id': 'Vice President (Sarah)', 'label': 'Vice President (Sarah)'}]\n",
      "------------------------------------------------------------\n"
     ]
    },
    {
     "name": "stderr",
     "output_type": "stream",
     "text": [
      "127.0.0.1 - - [07/Feb/2022 14:56:15] \"\u001b[37mPOST /_dash-update-component HTTP/1.1\u001b[0m\" 200 -\n"
     ]
    },
    {
     "name": "stdout",
     "output_type": "stream",
     "text": [
      "Mouse on Node: {'id': 'Program Officer (Elizabeth)', 'label': 'Program Officer (Elizabeth)'}\n",
      "Mouse on Edge: {'source': 'Vice President (Sarah)', 'target': 'Program Officer (Elizabeth)', 'id': 'f6f36b18-830e-4abb-8b39-76e7614926b4'}\n",
      "Tapped Edge: None\n",
      "Tapped Node: {'id': 'Vice President (Sarah)', 'label': 'Vice President (Sarah)'}\n",
      "------------------------------------------------------------\n",
      "All selected Nodes: [{'id': 'Vice President (Sarah)', 'label': 'Vice President (Sarah)'}]\n",
      "------------------------------------------------------------\n"
     ]
    },
    {
     "name": "stderr",
     "output_type": "stream",
     "text": [
      "127.0.0.1 - - [07/Feb/2022 14:56:16] \"\u001b[37mPOST /_dash-update-component HTTP/1.1\u001b[0m\" 200 -\n",
      "127.0.0.1 - - [07/Feb/2022 14:56:16] \"\u001b[37mPOST /_dash-update-component HTTP/1.1\u001b[0m\" 200 -\n",
      "127.0.0.1 - - [07/Feb/2022 14:56:16] \"\u001b[37mPOST /_dash-update-component HTTP/1.1\u001b[0m\" 200 -\n"
     ]
    },
    {
     "name": "stdout",
     "output_type": "stream",
     "text": [
      "Mouse on Node: {'id': 'Program Officer (Elizabeth)', 'label': 'Program Officer (Elizabeth)'}\n",
      "Mouse on Edge: {'source': 'Vice President (Sarah)', 'target': 'Program Officer (Elizabeth)', 'id': 'f6f36b18-830e-4abb-8b39-76e7614926b4'}\n",
      "Tapped Edge: None\n",
      "Tapped Node: {'id': 'Program Officer (Elizabeth)', 'label': 'Program Officer (Elizabeth)'}\n",
      "------------------------------------------------------------\n",
      "All selected Nodes: [{'id': 'Vice President (Sarah)', 'label': 'Vice President (Sarah)'}]\n",
      "------------------------------------------------------------\n",
      "Mouse on Node: {'id': 'Program Officer (Elizabeth)', 'label': 'Program Officer (Elizabeth)'}\n",
      "Mouse on Edge: {'source': 'Vice President (Sarah)', 'target': 'Program Officer (Elizabeth)', 'id': 'f6f36b18-830e-4abb-8b39-76e7614926b4'}\n",
      "Tapped Edge: None\n",
      "Tapped Node: {'id': 'Program Officer (Elizabeth)', 'label': 'Program Officer (Elizabeth)'}\n",
      "------------------------------------------------------------\n",
      "All selected Nodes: [{'id': 'Program Officer (Elizabeth)', 'label': 'Program Officer (Elizabeth)'}]\n",
      "------------------------------------------------------------\n"
     ]
    },
    {
     "name": "stderr",
     "output_type": "stream",
     "text": [
      "127.0.0.1 - - [07/Feb/2022 14:56:16] \"\u001b[37mPOST /_dash-update-component HTTP/1.1\u001b[0m\" 200 -\n"
     ]
    },
    {
     "name": "stdout",
     "output_type": "stream",
     "text": [
      "Mouse on Node: {'id': 'Program Officer (Sojourner)', 'label': 'Program Officer (Sojourner)'}\n",
      "Mouse on Edge: {'source': 'Vice President (Sarah)', 'target': 'Program Officer (Elizabeth)', 'id': 'f6f36b18-830e-4abb-8b39-76e7614926b4'}\n",
      "Tapped Edge: None\n",
      "Tapped Node: {'id': 'Program Officer (Elizabeth)', 'label': 'Program Officer (Elizabeth)'}\n",
      "------------------------------------------------------------\n",
      "All selected Nodes: [{'id': 'Program Officer (Elizabeth)', 'label': 'Program Officer (Elizabeth)'}]\n",
      "------------------------------------------------------------\n"
     ]
    },
    {
     "name": "stderr",
     "output_type": "stream",
     "text": [
      "127.0.0.1 - - [07/Feb/2022 14:56:17] \"\u001b[37mPOST /_dash-update-component HTTP/1.1\u001b[0m\" 200 -\n",
      "127.0.0.1 - - [07/Feb/2022 14:56:17] \"\u001b[37mPOST /_dash-update-component HTTP/1.1\u001b[0m\" 200 -\n",
      "127.0.0.1 - - [07/Feb/2022 14:56:17] \"\u001b[37mPOST /_dash-update-component HTTP/1.1\u001b[0m\" 200 -\n"
     ]
    },
    {
     "name": "stdout",
     "output_type": "stream",
     "text": [
      "Mouse on Node: {'id': 'Program Officer (Sojourner)', 'label': 'Program Officer (Sojourner)'}\n",
      "Mouse on Edge: {'source': 'Vice President (Sarah)', 'target': 'Program Officer (Elizabeth)', 'id': 'f6f36b18-830e-4abb-8b39-76e7614926b4'}\n",
      "Tapped Edge: None\n",
      "Tapped Node: {'id': 'Program Officer (Sojourner)', 'label': 'Program Officer (Sojourner)'}\n",
      "------------------------------------------------------------\n",
      "All selected Nodes: [{'id': 'Program Officer (Elizabeth)', 'label': 'Program Officer (Elizabeth)'}]\n",
      "------------------------------------------------------------\n",
      "Mouse on Node: {'id': 'Program Officer (Sojourner)', 'label': 'Program Officer (Sojourner)'}\n",
      "Mouse on Edge: {'source': 'Vice President (Sarah)', 'target': 'Program Officer (Elizabeth)', 'id': 'f6f36b18-830e-4abb-8b39-76e7614926b4'}\n",
      "Tapped Edge: None\n",
      "Tapped Node: {'id': 'Program Officer (Sojourner)', 'label': 'Program Officer (Sojourner)'}\n",
      "------------------------------------------------------------\n",
      "All selected Nodes: [{'id': 'Program Officer (Sojourner)', 'label': 'Program Officer (Sojourner)'}]\n",
      "------------------------------------------------------------\n"
     ]
    },
    {
     "name": "stderr",
     "output_type": "stream",
     "text": [
      "127.0.0.1 - - [07/Feb/2022 14:56:18] \"\u001b[37mPOST /_dash-update-component HTTP/1.1\u001b[0m\" 200 -\n"
     ]
    },
    {
     "name": "stdout",
     "output_type": "stream",
     "text": [
      "Mouse on Node: {'id': 'Program Officer (Elizabeth)', 'label': 'Program Officer (Elizabeth)'}\n",
      "Mouse on Edge: {'source': 'Vice President (Sarah)', 'target': 'Program Officer (Elizabeth)', 'id': 'f6f36b18-830e-4abb-8b39-76e7614926b4'}\n",
      "Tapped Edge: None\n",
      "Tapped Node: {'id': 'Program Officer (Sojourner)', 'label': 'Program Officer (Sojourner)'}\n",
      "------------------------------------------------------------\n",
      "All selected Nodes: [{'id': 'Program Officer (Sojourner)', 'label': 'Program Officer (Sojourner)'}]\n",
      "------------------------------------------------------------\n"
     ]
    },
    {
     "name": "stderr",
     "output_type": "stream",
     "text": [
      "127.0.0.1 - - [07/Feb/2022 14:56:18] \"\u001b[37mPOST /_dash-update-component HTTP/1.1\u001b[0m\" 200 -\n"
     ]
    },
    {
     "name": "stdout",
     "output_type": "stream",
     "text": [
      "Mouse on Node: {'id': 'Program Associate (Ellen)', 'label': 'Program Associate (Ellen)'}\n",
      "Mouse on Edge: {'source': 'Vice President (Sarah)', 'target': 'Program Officer (Elizabeth)', 'id': 'f6f36b18-830e-4abb-8b39-76e7614926b4'}\n",
      "Tapped Edge: None\n",
      "Tapped Node: {'id': 'Program Officer (Sojourner)', 'label': 'Program Officer (Sojourner)'}\n",
      "------------------------------------------------------------\n",
      "All selected Nodes: [{'id': 'Program Officer (Sojourner)', 'label': 'Program Officer (Sojourner)'}]\n",
      "------------------------------------------------------------\n"
     ]
    },
    {
     "name": "stderr",
     "output_type": "stream",
     "text": [
      "127.0.0.1 - - [07/Feb/2022 14:56:18] \"\u001b[37mPOST /_dash-update-component HTTP/1.1\u001b[0m\" 200 -\n",
      "127.0.0.1 - - [07/Feb/2022 14:56:18] \"\u001b[37mPOST /_dash-update-component HTTP/1.1\u001b[0m\" 200 -\n",
      "127.0.0.1 - - [07/Feb/2022 14:56:18] \"\u001b[37mPOST /_dash-update-component HTTP/1.1\u001b[0m\" 200 -\n"
     ]
    },
    {
     "name": "stdout",
     "output_type": "stream",
     "text": [
      "Mouse on Node: {'id': 'Program Associate (Ellen)', 'label': 'Program Associate (Ellen)'}\n",
      "Mouse on Edge: {'source': 'Vice President (Sarah)', 'target': 'Program Officer (Elizabeth)', 'id': 'f6f36b18-830e-4abb-8b39-76e7614926b4'}\n",
      "Tapped Edge: None\n",
      "Tapped Node: {'id': 'Program Associate (Ellen)', 'label': 'Program Associate (Ellen)'}\n",
      "------------------------------------------------------------\n",
      "All selected Nodes: [{'id': 'Program Officer (Sojourner)', 'label': 'Program Officer (Sojourner)'}]\n",
      "------------------------------------------------------------\n",
      "Mouse on Node: {'id': 'Program Associate (Ellen)', 'label': 'Program Associate (Ellen)'}\n",
      "Mouse on Edge: {'source': 'Vice President (Sarah)', 'target': 'Program Officer (Elizabeth)', 'id': 'f6f36b18-830e-4abb-8b39-76e7614926b4'}\n",
      "Tapped Edge: None\n",
      "Tapped Node: {'id': 'Program Associate (Ellen)', 'label': 'Program Associate (Ellen)'}\n",
      "------------------------------------------------------------\n",
      "All selected Nodes: [{'id': 'Program Associate (Ellen)', 'label': 'Program Associate (Ellen)'}]\n",
      "------------------------------------------------------------\n"
     ]
    },
    {
     "name": "stderr",
     "output_type": "stream",
     "text": [
      "127.0.0.1 - - [07/Feb/2022 14:56:19] \"\u001b[37mPOST /_dash-update-component HTTP/1.1\u001b[0m\" 200 -\n",
      "127.0.0.1 - - [07/Feb/2022 14:56:19] \"\u001b[37mPOST /_dash-update-component HTTP/1.1\u001b[0m\" 200 -\n"
     ]
    },
    {
     "name": "stdout",
     "output_type": "stream",
     "text": [
      "Mouse on Node: {'id': 'Program Associate (Ellen)', 'label': 'Program Associate (Ellen)'}\n",
      "Mouse on Edge: {'source': 'Vice President (Charlotte)', 'target': 'Program Associate (Ellen)', 'id': '6b329c04-7bdf-422f-b99c-c46d7a1c7049'}\n",
      "Tapped Edge: None\n",
      "Tapped Node: {'id': 'Program Associate (Ellen)', 'label': 'Program Associate (Ellen)'}\n",
      "------------------------------------------------------------\n",
      "All selected Nodes: [{'id': 'Program Associate (Ellen)', 'label': 'Program Associate (Ellen)'}]\n",
      "------------------------------------------------------------\n",
      "Mouse on Node: {'id': 'Program Associate (Ellen)', 'label': 'Program Associate (Ellen)'}\n",
      "Mouse on Edge: {'source': 'Executive Director (Harriet)', 'target': 'Vice President (Charlotte)', 'id': '97a8833b-b5a5-492d-b0f2-5e2547c8e68c'}\n",
      "Tapped Edge: None\n",
      "Tapped Node: {'id': 'Program Associate (Ellen)', 'label': 'Program Associate (Ellen)'}\n",
      "------------------------------------------------------------\n",
      "All selected Nodes: [{'id': 'Program Associate (Ellen)', 'label': 'Program Associate (Ellen)'}]\n",
      "------------------------------------------------------------\n"
     ]
    },
    {
     "name": "stderr",
     "output_type": "stream",
     "text": [
      "127.0.0.1 - - [07/Feb/2022 14:58:00] \"\u001b[37mPOST /_dash-update-component HTTP/1.1\u001b[0m\" 200 -\n"
     ]
    },
    {
     "name": "stdout",
     "output_type": "stream",
     "text": [
      "Mouse on Node: {'id': 'Vice President (Sarah)', 'label': 'Vice President (Sarah)'}\n",
      "Mouse on Edge: {'source': 'Executive Director (Harriet)', 'target': 'Vice President (Charlotte)', 'id': '97a8833b-b5a5-492d-b0f2-5e2547c8e68c'}\n",
      "Tapped Edge: None\n",
      "Tapped Node: {'id': 'Program Associate (Ellen)', 'label': 'Program Associate (Ellen)'}\n",
      "------------------------------------------------------------\n",
      "All selected Nodes: [{'id': 'Program Associate (Ellen)', 'label': 'Program Associate (Ellen)'}]\n",
      "------------------------------------------------------------\n"
     ]
    },
    {
     "name": "stderr",
     "output_type": "stream",
     "text": [
      "127.0.0.1 - - [07/Feb/2022 14:58:01] \"\u001b[37mPOST /_dash-update-component HTTP/1.1\u001b[0m\" 200 -\n",
      "127.0.0.1 - - [07/Feb/2022 14:58:01] \"\u001b[37mPOST /_dash-update-component HTTP/1.1\u001b[0m\" 200 -\n",
      "127.0.0.1 - - [07/Feb/2022 14:58:01] \"\u001b[37mPOST /_dash-update-component HTTP/1.1\u001b[0m\" 200 -\n"
     ]
    },
    {
     "name": "stdout",
     "output_type": "stream",
     "text": [
      "Mouse on Node: {'id': 'Vice President (Sarah)', 'label': 'Vice President (Sarah)'}\n",
      "Mouse on Edge: {'source': 'Executive Director (Harriet)', 'target': 'Vice President (Charlotte)', 'id': '97a8833b-b5a5-492d-b0f2-5e2547c8e68c'}\n",
      "Tapped Edge: None\n",
      "Tapped Node: {'id': 'Vice President (Sarah)', 'label': 'Vice President (Sarah)'}Mouse on Node: {'id': 'Vice President (Sarah)', 'label': 'Vice President (Sarah)'}\n",
      "\n",
      "------------------------------------------------------------Mouse on Edge: {'source': 'Executive Director (Harriet)', 'target': 'Vice President (Charlotte)', 'id': '97a8833b-b5a5-492d-b0f2-5e2547c8e68c'}\n",
      "Tapped Edge: None\n",
      "Tapped Node: {'id': 'Vice President (Sarah)', 'label': 'Vice President (Sarah)'}\n",
      "------------------------------------------------------------\n",
      "All selected Nodes: [{'id': 'Program Associate (Ellen)', 'label': 'Program Associate (Ellen)'}]\n",
      "------------------------------------------------------------\n",
      "\n",
      "All selected Nodes: [{'id': 'Vice President (Sarah)', 'label': 'Vice President (Sarah)'}]\n",
      "------------------------------------------------------------\n"
     ]
    },
    {
     "name": "stderr",
     "output_type": "stream",
     "text": [
      "127.0.0.1 - - [07/Feb/2022 14:58:42] \"\u001b[37mPOST /_dash-update-component HTTP/1.1\u001b[0m\" 200 -\n"
     ]
    },
    {
     "name": "stdout",
     "output_type": "stream",
     "text": [
      "Mouse on Node: {'id': 'Vice President (Sarah)', 'label': 'Vice President (Sarah)'}\n",
      "Mouse on Edge: {'source': 'Executive Director (Harriet)', 'target': 'Vice President (Sarah)', 'id': '8606d57e-4720-472f-91a4-be61d18ea458'}\n",
      "Tapped Edge: None\n",
      "Tapped Node: {'id': 'Vice President (Sarah)', 'label': 'Vice President (Sarah)'}\n",
      "------------------------------------------------------------\n",
      "All selected Nodes: [{'id': 'Vice President (Sarah)', 'label': 'Vice President (Sarah)'}]\n",
      "------------------------------------------------------------\n"
     ]
    },
    {
     "name": "stderr",
     "output_type": "stream",
     "text": [
      "127.0.0.1 - - [07/Feb/2022 14:58:44] \"\u001b[37mPOST /_dash-update-component HTTP/1.1\u001b[0m\" 200 -\n",
      "127.0.0.1 - - [07/Feb/2022 14:58:45] \"\u001b[37mPOST /_dash-update-component HTTP/1.1\u001b[0m\" 200 -\n"
     ]
    },
    {
     "name": "stdout",
     "output_type": "stream",
     "text": [
      "Mouse on Node: {'id': 'Vice President (Sarah)', 'label': 'Vice President (Sarah)'}\n",
      "Mouse on Edge: {'source': 'Executive Director (Harriet)', 'target': 'Vice President (Sarah)', 'id': '8606d57e-4720-472f-91a4-be61d18ea458'}\n",
      "Tapped Edge: {'source': 'Executive Director (Harriet)', 'target': 'Vice President (Sarah)', 'id': '8606d57e-4720-472f-91a4-be61d18ea458'}\n",
      "Tapped Node: {'id': 'Vice President (Sarah)', 'label': 'Vice President (Sarah)'}\n",
      "------------------------------------------------------------\n",
      "All selected Nodes: [{'id': 'Vice President (Sarah)', 'label': 'Vice President (Sarah)'}]\n",
      "------------------------------------------------------------\n",
      "Mouse on Node: {'id': 'Vice President (Sarah)', 'label': 'Vice President (Sarah)'}\n",
      "Mouse on Edge: {'source': 'Executive Director (Harriet)', 'target': 'Vice President (Sarah)', 'id': '8606d57e-4720-472f-91a4-be61d18ea458'}\n",
      "Tapped Edge: {'source': 'Executive Director (Harriet)', 'target': 'Vice President (Sarah)', 'id': '8606d57e-4720-472f-91a4-be61d18ea458'}\n",
      "Tapped Node: {'id': 'Vice President (Sarah)', 'label': 'Vice President (Sarah)'}\n",
      "------------------------------------------------------------\n",
      "All selected Nodes: []\n",
      "------------------------------------------------------------\n"
     ]
    },
    {
     "name": "stderr",
     "output_type": "stream",
     "text": [
      "127.0.0.1 - - [07/Feb/2022 14:58:46] \"\u001b[37mPOST /_dash-update-component HTTP/1.1\u001b[0m\" 200 -\n"
     ]
    },
    {
     "name": "stdout",
     "output_type": "stream",
     "text": [
      "Mouse on Node: {'id': 'Executive Director (Harriet)', 'label': 'Executive Director (Harriet)'}\n",
      "Mouse on Edge: {'source': 'Executive Director (Harriet)', 'target': 'Vice President (Sarah)', 'id': '8606d57e-4720-472f-91a4-be61d18ea458'}\n",
      "Tapped Edge: {'source': 'Executive Director (Harriet)', 'target': 'Vice President (Sarah)', 'id': '8606d57e-4720-472f-91a4-be61d18ea458'}\n",
      "Tapped Node: {'id': 'Vice President (Sarah)', 'label': 'Vice President (Sarah)'}\n",
      "------------------------------------------------------------\n",
      "All selected Nodes: []\n",
      "------------------------------------------------------------\n"
     ]
    },
    {
     "name": "stderr",
     "output_type": "stream",
     "text": [
      "127.0.0.1 - - [07/Feb/2022 14:58:46] \"\u001b[37mPOST /_dash-update-component HTTP/1.1\u001b[0m\" 200 -\n",
      "127.0.0.1 - - [07/Feb/2022 14:58:46] \"\u001b[37mPOST /_dash-update-component HTTP/1.1\u001b[0m\" 200 -\n",
      "127.0.0.1 - - [07/Feb/2022 14:58:46] \"\u001b[37mPOST /_dash-update-component HTTP/1.1\u001b[0m\" 200 -\n"
     ]
    },
    {
     "name": "stdout",
     "output_type": "stream",
     "text": [
      "Mouse on Node: {'id': 'Executive Director (Harriet)', 'label': 'Executive Director (Harriet)'}\n",
      "Mouse on Edge: {'source': 'Executive Director (Harriet)', 'target': 'Vice President (Sarah)', 'id': '8606d57e-4720-472f-91a4-be61d18ea458'}\n",
      "Tapped Edge: {'source': 'Executive Director (Harriet)', 'target': 'Vice President (Sarah)', 'id': '8606d57e-4720-472f-91a4-be61d18ea458'}\n",
      "Tapped Node: {'id': 'Executive Director (Harriet)', 'label': 'Executive Director (Harriet)'}\n",
      "------------------------------------------------------------\n",
      "All selected Nodes: []\n",
      "------------------------------------------------------------\n",
      "Mouse on Node: {'id': 'Executive Director (Harriet)', 'label': 'Executive Director (Harriet)'}\n",
      "Mouse on Edge: {'source': 'Executive Director (Harriet)', 'target': 'Vice President (Sarah)', 'id': '8606d57e-4720-472f-91a4-be61d18ea458'}\n",
      "Tapped Edge: {'source': 'Executive Director (Harriet)', 'target': 'Vice President (Sarah)', 'id': '8606d57e-4720-472f-91a4-be61d18ea458'}\n",
      "Tapped Node: {'id': 'Executive Director (Harriet)', 'label': 'Executive Director (Harriet)'}\n",
      "------------------------------------------------------------\n",
      "All selected Nodes: [{'id': 'Executive Director (Harriet)', 'label': 'Executive Director (Harriet)'}]\n",
      "------------------------------------------------------------\n"
     ]
    },
    {
     "name": "stderr",
     "output_type": "stream",
     "text": [
      "127.0.0.1 - - [07/Feb/2022 14:58:47] \"\u001b[37mPOST /_dash-update-component HTTP/1.1\u001b[0m\" 200 -\n"
     ]
    },
    {
     "name": "stdout",
     "output_type": "stream",
     "text": [
      "Mouse on Node: {'id': 'Vice President (Sarah)', 'label': 'Vice President (Sarah)'}\n",
      "Mouse on Edge: {'source': 'Executive Director (Harriet)', 'target': 'Vice President (Sarah)', 'id': '8606d57e-4720-472f-91a4-be61d18ea458'}\n",
      "Tapped Edge: {'source': 'Executive Director (Harriet)', 'target': 'Vice President (Sarah)', 'id': '8606d57e-4720-472f-91a4-be61d18ea458'}\n",
      "Tapped Node: {'id': 'Executive Director (Harriet)', 'label': 'Executive Director (Harriet)'}\n",
      "------------------------------------------------------------\n",
      "All selected Nodes: [{'id': 'Executive Director (Harriet)', 'label': 'Executive Director (Harriet)'}]\n",
      "------------------------------------------------------------\n"
     ]
    },
    {
     "name": "stderr",
     "output_type": "stream",
     "text": [
      "127.0.0.1 - - [07/Feb/2022 14:58:47] \"\u001b[37mPOST /_dash-update-component HTTP/1.1\u001b[0m\" 200 -\n",
      "127.0.0.1 - - [07/Feb/2022 14:58:47] \"\u001b[37mPOST /_dash-update-component HTTP/1.1\u001b[0m\" 200 -\n",
      "127.0.0.1 - - [07/Feb/2022 14:58:47] \"\u001b[37mPOST /_dash-update-component HTTP/1.1\u001b[0m\" 200 -\n"
     ]
    },
    {
     "name": "stdout",
     "output_type": "stream",
     "text": [
      "Mouse on Node: {'id': 'Vice President (Sarah)', 'label': 'Vice President (Sarah)'}\n",
      "Mouse on Edge: {'source': 'Executive Director (Harriet)', 'target': 'Vice President (Sarah)', 'id': '8606d57e-4720-472f-91a4-be61d18ea458'}\n",
      "Tapped Edge: {'source': 'Executive Director (Harriet)', 'target': 'Vice President (Sarah)', 'id': '8606d57e-4720-472f-91a4-be61d18ea458'}\n",
      "Tapped Node: {'id': 'Vice President (Sarah)', 'label': 'Vice President (Sarah)'}\n",
      "------------------------------------------------------------\n",
      "All selected Nodes: [{'id': 'Executive Director (Harriet)', 'label': 'Executive Director (Harriet)'}]\n",
      "------------------------------------------------------------\n",
      "Mouse on Node: {'id': 'Vice President (Sarah)', 'label': 'Vice President (Sarah)'}\n",
      "Mouse on Edge: {'source': 'Executive Director (Harriet)', 'target': 'Vice President (Sarah)', 'id': '8606d57e-4720-472f-91a4-be61d18ea458'}\n",
      "Tapped Edge: {'source': 'Executive Director (Harriet)', 'target': 'Vice President (Sarah)', 'id': '8606d57e-4720-472f-91a4-be61d18ea458'}\n",
      "Tapped Node: {'id': 'Vice President (Sarah)', 'label': 'Vice President (Sarah)'}\n",
      "------------------------------------------------------------\n",
      "All selected Nodes: [{'id': 'Vice President (Sarah)', 'label': 'Vice President (Sarah)'}]\n",
      "------------------------------------------------------------\n"
     ]
    },
    {
     "name": "stderr",
     "output_type": "stream",
     "text": [
      "127.0.0.1 - - [07/Feb/2022 14:58:47] \"\u001b[37mPOST /_dash-update-component HTTP/1.1\u001b[0m\" 200 -\n",
      "127.0.0.1 - - [07/Feb/2022 14:58:47] \"\u001b[37mPOST /_dash-update-component HTTP/1.1\u001b[0m\" 200 -\n"
     ]
    },
    {
     "name": "stdout",
     "output_type": "stream",
     "text": [
      "Mouse on Node: {'id': 'Vice President (Sarah)', 'label': 'Vice President (Sarah)'}\n",
      "Mouse on Edge: {'source': 'Vice President (Sarah)', 'target': 'Program Officer (Elizabeth)', 'id': 'f6f36b18-830e-4abb-8b39-76e7614926b4'}\n",
      "Tapped Edge: {'source': 'Executive Director (Harriet)', 'target': 'Vice President (Sarah)', 'id': '8606d57e-4720-472f-91a4-be61d18ea458'}\n",
      "Tapped Node: {'id': 'Vice President (Sarah)', 'label': 'Vice President (Sarah)'}\n",
      "------------------------------------------------------------\n",
      "All selected Nodes: [{'id': 'Vice President (Sarah)', 'label': 'Vice President (Sarah)'}]\n",
      "------------------------------------------------------------\n",
      "Mouse on Node: {'id': 'Program Officer (Elizabeth)', 'label': 'Program Officer (Elizabeth)'}\n",
      "Mouse on Edge: {'source': 'Vice President (Sarah)', 'target': 'Program Officer (Elizabeth)', 'id': 'f6f36b18-830e-4abb-8b39-76e7614926b4'}\n",
      "Tapped Edge: {'source': 'Executive Director (Harriet)', 'target': 'Vice President (Sarah)', 'id': '8606d57e-4720-472f-91a4-be61d18ea458'}\n",
      "Tapped Node: {'id': 'Vice President (Sarah)', 'label': 'Vice President (Sarah)'}\n",
      "------------------------------------------------------------\n",
      "All selected Nodes: [{'id': 'Vice President (Sarah)', 'label': 'Vice President (Sarah)'}]\n",
      "------------------------------------------------------------\n"
     ]
    },
    {
     "name": "stderr",
     "output_type": "stream",
     "text": [
      "127.0.0.1 - - [07/Feb/2022 14:58:48] \"\u001b[37mPOST /_dash-update-component HTTP/1.1\u001b[0m\" 200 -\n",
      "127.0.0.1 - - [07/Feb/2022 14:58:48] \"\u001b[37mPOST /_dash-update-component HTTP/1.1\u001b[0m\" 200 -\n",
      "127.0.0.1 - - [07/Feb/2022 14:58:48] \"\u001b[37mPOST /_dash-update-component HTTP/1.1\u001b[0m\" 200 -\n"
     ]
    },
    {
     "name": "stdout",
     "output_type": "stream",
     "text": [
      "Mouse on Node: {'id': 'Program Officer (Elizabeth)', 'label': 'Program Officer (Elizabeth)'}\n",
      "Mouse on Edge: {'source': 'Vice President (Sarah)', 'target': 'Program Officer (Elizabeth)', 'id': 'f6f36b18-830e-4abb-8b39-76e7614926b4'}\n",
      "Tapped Edge: {'source': 'Executive Director (Harriet)', 'target': 'Vice President (Sarah)', 'id': '8606d57e-4720-472f-91a4-be61d18ea458'}\n",
      "Tapped Node: {'id': 'Program Officer (Elizabeth)', 'label': 'Program Officer (Elizabeth)'}\n",
      "------------------------------------------------------------\n",
      "All selected Nodes: [{'id': 'Vice President (Sarah)', 'label': 'Vice President (Sarah)'}]\n",
      "------------------------------------------------------------\n",
      "Mouse on Node: {'id': 'Program Officer (Elizabeth)', 'label': 'Program Officer (Elizabeth)'}\n",
      "Mouse on Edge: {'source': 'Vice President (Sarah)', 'target': 'Program Officer (Elizabeth)', 'id': 'f6f36b18-830e-4abb-8b39-76e7614926b4'}\n",
      "Tapped Edge: {'source': 'Executive Director (Harriet)', 'target': 'Vice President (Sarah)', 'id': '8606d57e-4720-472f-91a4-be61d18ea458'}\n",
      "Tapped Node: {'id': 'Program Officer (Elizabeth)', 'label': 'Program Officer (Elizabeth)'}\n",
      "------------------------------------------------------------\n",
      "All selected Nodes: [{'id': 'Program Officer (Elizabeth)', 'label': 'Program Officer (Elizabeth)'}]\n",
      "------------------------------------------------------------\n"
     ]
    },
    {
     "name": "stderr",
     "output_type": "stream",
     "text": [
      "127.0.0.1 - - [07/Feb/2022 14:59:11] \"\u001b[37mPOST /_dash-update-component HTTP/1.1\u001b[0m\" 200 -\n"
     ]
    },
    {
     "name": "stdout",
     "output_type": "stream",
     "text": [
      "Mouse on Node: {'id': 'Program Officer (Elizabeth)', 'label': 'Program Officer (Elizabeth)'}\n",
      "Mouse on Edge: {'source': 'Executive Director (Harriet)', 'target': 'Vice President (Charlotte)', 'id': '97a8833b-b5a5-492d-b0f2-5e2547c8e68c'}\n",
      "Tapped Edge: {'source': 'Executive Director (Harriet)', 'target': 'Vice President (Sarah)', 'id': '8606d57e-4720-472f-91a4-be61d18ea458'}\n",
      "Tapped Node: {'id': 'Program Officer (Elizabeth)', 'label': 'Program Officer (Elizabeth)'}\n",
      "------------------------------------------------------------\n",
      "All selected Nodes: [{'id': 'Program Officer (Elizabeth)', 'label': 'Program Officer (Elizabeth)'}]\n",
      "------------------------------------------------------------\n"
     ]
    },
    {
     "name": "stderr",
     "output_type": "stream",
     "text": [
      "127.0.0.1 - - [07/Feb/2022 14:59:13] \"\u001b[37mPOST /_dash-update-component HTTP/1.1\u001b[0m\" 200 -\n"
     ]
    },
    {
     "name": "stdout",
     "output_type": "stream",
     "text": [
      "Mouse on Node: {'id': 'Program Officer (Elizabeth)', 'label': 'Program Officer (Elizabeth)'}\n",
      "Mouse on Edge: {'source': 'Executive Director (Harriet)', 'target': 'Vice President (Sarah)', 'id': '8606d57e-4720-472f-91a4-be61d18ea458'}\n",
      "Tapped Edge: {'source': 'Executive Director (Harriet)', 'target': 'Vice President (Sarah)', 'id': '8606d57e-4720-472f-91a4-be61d18ea458'}\n",
      "Tapped Node: {'id': 'Program Officer (Elizabeth)', 'label': 'Program Officer (Elizabeth)'}\n",
      "------------------------------------------------------------\n",
      "All selected Nodes: [{'id': 'Program Officer (Elizabeth)', 'label': 'Program Officer (Elizabeth)'}]\n",
      "------------------------------------------------------------\n"
     ]
    },
    {
     "name": "stderr",
     "output_type": "stream",
     "text": [
      "127.0.0.1 - - [07/Feb/2022 14:59:14] \"\u001b[37mPOST /_dash-update-component HTTP/1.1\u001b[0m\" 200 -\n"
     ]
    },
    {
     "name": "stdout",
     "output_type": "stream",
     "text": [
      "Mouse on Node: {'id': 'Executive Director (Harriet)', 'label': 'Executive Director (Harriet)'}\n",
      "Mouse on Edge: {'source': 'Executive Director (Harriet)', 'target': 'Vice President (Sarah)', 'id': '8606d57e-4720-472f-91a4-be61d18ea458'}\n",
      "Tapped Edge: {'source': 'Executive Director (Harriet)', 'target': 'Vice President (Sarah)', 'id': '8606d57e-4720-472f-91a4-be61d18ea458'}\n",
      "Tapped Node: {'id': 'Program Officer (Elizabeth)', 'label': 'Program Officer (Elizabeth)'}\n",
      "------------------------------------------------------------\n",
      "All selected Nodes: [{'id': 'Program Officer (Elizabeth)', 'label': 'Program Officer (Elizabeth)'}]\n",
      "------------------------------------------------------------\n"
     ]
    },
    {
     "name": "stderr",
     "output_type": "stream",
     "text": [
      "127.0.0.1 - - [07/Feb/2022 14:59:17] \"\u001b[37mPOST /_dash-update-component HTTP/1.1\u001b[0m\" 200 -\n"
     ]
    },
    {
     "name": "stdout",
     "output_type": "stream",
     "text": [
      "Mouse on Node: {'id': 'Executive Director (Harriet)', 'label': 'Executive Director (Harriet)'}\n",
      "Mouse on Edge: {'source': 'Executive Director (Harriet)', 'target': 'Vice President (Charlotte)', 'id': '97a8833b-b5a5-492d-b0f2-5e2547c8e68c'}\n",
      "Tapped Edge: {'source': 'Executive Director (Harriet)', 'target': 'Vice President (Sarah)', 'id': '8606d57e-4720-472f-91a4-be61d18ea458'}\n",
      "Tapped Node: {'id': 'Program Officer (Elizabeth)', 'label': 'Program Officer (Elizabeth)'}\n",
      "------------------------------------------------------------\n",
      "All selected Nodes: [{'id': 'Program Officer (Elizabeth)', 'label': 'Program Officer (Elizabeth)'}]\n",
      "------------------------------------------------------------\n"
     ]
    },
    {
     "name": "stderr",
     "output_type": "stream",
     "text": [
      "127.0.0.1 - - [07/Feb/2022 14:59:17] \"\u001b[37mPOST /_dash-update-component HTTP/1.1\u001b[0m\" 200 -\n"
     ]
    },
    {
     "name": "stdout",
     "output_type": "stream",
     "text": [
      "Mouse on Node: {'id': 'Executive Director (Harriet)', 'label': 'Executive Director (Harriet)'}\n",
      "Mouse on Edge: {'source': 'Executive Director (Harriet)', 'target': 'Vice President (Sarah)', 'id': '8606d57e-4720-472f-91a4-be61d18ea458'}\n",
      "Tapped Edge: {'source': 'Executive Director (Harriet)', 'target': 'Vice President (Sarah)', 'id': '8606d57e-4720-472f-91a4-be61d18ea458'}\n",
      "Tapped Node: {'id': 'Program Officer (Elizabeth)', 'label': 'Program Officer (Elizabeth)'}\n",
      "------------------------------------------------------------\n",
      "All selected Nodes: [{'id': 'Program Officer (Elizabeth)', 'label': 'Program Officer (Elizabeth)'}]\n",
      "------------------------------------------------------------\n"
     ]
    },
    {
     "name": "stderr",
     "output_type": "stream",
     "text": [
      "127.0.0.1 - - [07/Feb/2022 14:59:18] \"\u001b[37mPOST /_dash-update-component HTTP/1.1\u001b[0m\" 200 -\n"
     ]
    },
    {
     "name": "stdout",
     "output_type": "stream",
     "text": [
      "Mouse on Node: {'id': 'Executive Director (Harriet)', 'label': 'Executive Director (Harriet)'}\n",
      "Mouse on Edge: {'source': 'Executive Director (Harriet)', 'target': 'Vice President (Charlotte)', 'id': '97a8833b-b5a5-492d-b0f2-5e2547c8e68c'}\n",
      "Tapped Edge: {'source': 'Executive Director (Harriet)', 'target': 'Vice President (Sarah)', 'id': '8606d57e-4720-472f-91a4-be61d18ea458'}\n",
      "Tapped Node: {'id': 'Program Officer (Elizabeth)', 'label': 'Program Officer (Elizabeth)'}\n",
      "------------------------------------------------------------\n",
      "All selected Nodes: [{'id': 'Program Officer (Elizabeth)', 'label': 'Program Officer (Elizabeth)'}]\n",
      "------------------------------------------------------------\n"
     ]
    },
    {
     "name": "stderr",
     "output_type": "stream",
     "text": [
      "127.0.0.1 - - [07/Feb/2022 14:59:19] \"\u001b[37mPOST /_dash-update-component HTTP/1.1\u001b[0m\" 200 -\n"
     ]
    },
    {
     "name": "stdout",
     "output_type": "stream",
     "text": [
      "Mouse on Node: {'id': 'Executive Director (Harriet)', 'label': 'Executive Director (Harriet)'}\n",
      "Mouse on Edge: {'source': 'Vice President (Charlotte)', 'target': 'Program Associate (Ellen)', 'id': '6b329c04-7bdf-422f-b99c-c46d7a1c7049'}\n",
      "Tapped Edge: {'source': 'Executive Director (Harriet)', 'target': 'Vice President (Sarah)', 'id': '8606d57e-4720-472f-91a4-be61d18ea458'}\n",
      "Tapped Node: {'id': 'Program Officer (Elizabeth)', 'label': 'Program Officer (Elizabeth)'}\n",
      "------------------------------------------------------------\n",
      "All selected Nodes: [{'id': 'Program Officer (Elizabeth)', 'label': 'Program Officer (Elizabeth)'}]\n",
      "------------------------------------------------------------\n"
     ]
    }
   ],
   "source": [
    "from jupyter_dash import JupyterDash  # pip install dash\n",
    "import dash_cytoscape as cyto  # pip install dash-cytoscape==0.2.0 or higher\n",
    "import dash_html_components as html\n",
    "import dash_core_components as dcc\n",
    "from dash.dependencies import Output, Input\n",
    "import pandas as pd  # pip install pandas\n",
    "import plotly.express as px\n",
    "import math\n",
    "from dash import no_update\n",
    "\n",
    "\n",
    "external_stylesheets = ['https://codepen.io/chriddyp/pen/bWLwgP.css']\n",
    "app = dash.Dash(__name__, external_stylesheets=external_stylesheets)\n",
    "\n",
    "df = pd.read_csv(\"https://raw.githubusercontent.com/Coding-with-Adam/Dash-by-Plotly/master/Cytoscape/org-data.csv\")\n",
    "\n",
    "# layouts: preset, random, cose, circular, grid, breadthfirst, concentric, external layouts\n",
    "app.layout = html.Div([\n",
    "    html.Div([\n",
    "        dcc.Dropdown(\n",
    "            id='dpdn',\n",
    "            value='breadthfirst',\n",
    "            clearable=False,\n",
    "            options=[\n",
    "                {'label': name.capitalize(), 'value': name}\n",
    "                for name in ['breadthfirst' ,'grid', 'random', 'circle', 'cose', 'concentric']\n",
    "            ]\n",
    "        ),\n",
    "        cyto.Cytoscape(\n",
    "            id='org-chart',\n",
    "            autoungrabify=True,\n",
    "            minZoom=0.2,\n",
    "            maxZoom=1,\n",
    "            layout={'name': 'breadthfirst'},\n",
    "\n",
    "            style={'width': '100%', 'height': '500px'},\n",
    "            elements=\n",
    "                [\n",
    "                    # Nodes elements\n",
    "                    {'data': {'id': x, 'label': x}} for x in df.name\n",
    "                ]\n",
    "                +\n",
    "                [\n",
    "                    # Edge elements\n",
    "                    {'data': {'source': 'Executive Director (Harriet)', 'target': 'Vice President (Sarah)'}},\n",
    "                    {'data': {'source': 'Executive Director (Harriet)', 'target': 'Vice President (Charlotte)'}},\n",
    "                    {'data': {'source': 'Vice President (Sarah)', 'target': 'Program Officer (Sojourner)'}},\n",
    "                    {'data': {'source': 'Vice President (Sarah)', 'target': 'Program Officer (Elizabeth)'}},\n",
    "                    {'data': {'source': 'Vice President (Charlotte)', 'target': 'Program Associate (Ellen)'}},\n",
    "                ]\n",
    "        )\n",
    "    ], className='six columns'),\n",
    "\n",
    "    html.Div([\n",
    "        html.Div(id='empty-div', children='')\n",
    "    ],className='one column'),\n",
    "\n",
    "    html.Div([\n",
    "        dcc.Graph(id='my-graph', figure=px.bar(df, x='name', y='slaves_freed'))\n",
    "    ], className='five columns'),\n",
    "\n",
    "], className='row')\n",
    "\n",
    "\n",
    "@app.callback(Output('org-chart', 'layout'),\n",
    "              Input('dpdn', 'value'))\n",
    "def update_layout(layout_value):\n",
    "    if layout_value == 'breadthfirst':\n",
    "        return {\n",
    "        'name': layout_value,\n",
    "        'roots': '[id = \"Executive Director (Harriet)\"]',\n",
    "        'animate': True\n",
    "        }\n",
    "    else:\n",
    "        return {\n",
    "            'name': layout_value,\n",
    "            'animate': True\n",
    "        }\n",
    "\n",
    "\n",
    "@app.callback(\n",
    "    Output('empty-div', 'children'),\n",
    "    Input('org-chart', 'mouseoverNodeData'),\n",
    "    Input('org-chart','mouseoverEdgeData'),\n",
    "    Input('org-chart','tapEdgeData'),\n",
    "    Input('org-chart','tapNodeData'),\n",
    "    Input('org-chart','selectedNodeData')\n",
    ")\n",
    "def update_layout(mouse_on_node, mouse_on_edge, tap_edge, tap_node, snd):\n",
    "    print(\"Mouse on Node: {}\".format(mouse_on_node))\n",
    "    print(\"Mouse on Edge: {}\".format(mouse_on_edge))\n",
    "    print(\"Tapped Edge: {}\".format(tap_edge))\n",
    "    print(\"Tapped Node: {}\".format(tap_node))\n",
    "    print(\"------------------------------------------------------------\")\n",
    "    print(\"All selected Nodes: {}\".format(snd))\n",
    "    print(\"------------------------------------------------------------\")\n",
    "\n",
    "    return 'see print statement for nodes and edges selected.'\n",
    "\n",
    "\n",
    "@app.callback(\n",
    "    Output('my-graph','figure'),\n",
    "    Input('org-chart','tapNodeData'),\n",
    ")\n",
    "def update_nodes(data):\n",
    "    if data is None:\n",
    "        return no_update\n",
    "    else:\n",
    "        dff = df.copy()\n",
    "        dff.loc[dff.name == data['label'], 'color'] = \"yellow\"\n",
    "        fig = px.bar(dff, x='name', y='slaves_freed')\n",
    "        fig.update_traces(marker={'color': dff['color']})\n",
    "        return fig\n",
    "\n",
    "\n",
    "app.run_server(debug=False)"
   ]
  },
  {
   "cell_type": "code",
   "execution_count": null,
   "id": "684ac792",
   "metadata": {},
   "outputs": [],
   "source": []
  }
 ],
 "metadata": {
  "kernelspec": {
   "display_name": "Python 3 (ipykernel)",
   "language": "python",
   "name": "python3"
  },
  "language_info": {
   "codemirror_mode": {
    "name": "ipython",
    "version": 3
   },
   "file_extension": ".py",
   "mimetype": "text/x-python",
   "name": "python",
   "nbconvert_exporter": "python",
   "pygments_lexer": "ipython3",
   "version": "3.8.8"
  }
 },
 "nbformat": 4,
 "nbformat_minor": 5
}
